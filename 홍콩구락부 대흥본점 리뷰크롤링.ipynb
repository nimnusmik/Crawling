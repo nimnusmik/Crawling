{
 "cells": [
  {
   "cell_type": "markdown",
   "id": "9b76d1b7",
   "metadata": {},
   "source": [
    "# 홍콩구락부 대흥본점 리뷰크롤링"
   ]
  },
  {
   "cell_type": "markdown",
   "id": "71cc35b7",
   "metadata": {},
   "source": [
    "#### beautifulsoup4, selenium, xlsxwriter 설치"
   ]
  },
  {
   "cell_type": "code",
   "execution_count": 44,
   "id": "c71bae30",
   "metadata": {},
   "outputs": [],
   "source": [
    "#!pip3 install beautifulsoup4"
   ]
  },
  {
   "cell_type": "code",
   "execution_count": 45,
   "id": "38d25761",
   "metadata": {},
   "outputs": [],
   "source": [
    "#!pip install selenium"
   ]
  },
  {
   "cell_type": "code",
   "execution_count": 46,
   "id": "e4afd015",
   "metadata": {},
   "outputs": [
    {
     "name": "stdout",
     "output_type": "stream",
     "text": [
      "Requirement already satisfied: xlsxwriter in /Users/sunmin/anaconda3/lib/python3.10/site-packages (3.1.0)\r\n"
     ]
    }
   ],
   "source": [
    "!pip install xlsxwriter"
   ]
  },
  {
   "cell_type": "markdown",
   "id": "7802acde",
   "metadata": {},
   "source": [
    "#### 필요한 패키지 임폴트"
   ]
  },
  {
   "cell_type": "code",
   "execution_count": 47,
   "id": "e130085c",
   "metadata": {},
   "outputs": [],
   "source": [
    "from selenium import webdriver\n",
    "from selenium.webdriver.common.keys import Keys\n",
    "from bs4 import BeautifulSoup\n",
    "from time import sleep\n",
    "import requests\n",
    "import re\n",
    "import pandas as pd\n",
    "import numpy as np\n",
    "import os\n",
    "import time\n",
    "import urllib.request\n",
    "from selenium.webdriver.common.keys import Keys\n",
    "\n",
    "import warnings\n",
    "warnings.filterwarnings('ignore')"
   ]
  },
  {
   "cell_type": "markdown",
   "id": "aafeb2ae",
   "metadata": {},
   "source": [
    "#### 셀레니움을 이용해 크롬드라이브 제어 및 url 가져오기"
   ]
  },
  {
   "cell_type": "code",
   "execution_count": 48,
   "id": "f5cb90cc",
   "metadata": {},
   "outputs": [],
   "source": [
    "#/Applications/Google Chrome.app/Contents/MacOS/Google Chrome\n",
    "from selenium import webdriver\n",
    "\n",
    "driver = webdriver.Chrome()\n",
    "driver.get(\"https://m.place.naver.com/restaurant/1843075551/review/visitor?entry=ple\")\n",
    "#time.sleep(2)"
   ]
  },
  {
   "cell_type": "code",
   "execution_count": 49,
   "id": "a7327391",
   "metadata": {},
   "outputs": [],
   "source": [
    "#driver.find_element('xpath','//*[@id=\"app-root\"]/div/div/div/div[5]/div/div/div/div/a[5]').click()"
   ]
  },
  {
   "cell_type": "code",
   "execution_count": 50,
   "id": "d8ca4a18",
   "metadata": {},
   "outputs": [],
   "source": [
    "driver.execute_script('window.scrollTo(0,document.body.scrollHeight)')"
   ]
  },
  {
   "cell_type": "code",
   "execution_count": 51,
   "id": "3f333748",
   "metadata": {},
   "outputs": [],
   "source": [
    "prev_height = driver.execute_script('return document.body.scrollHeight')"
   ]
  },
  {
   "cell_type": "markdown",
   "id": "6ca86e0c",
   "metadata": {},
   "source": [
    "#### 웹자동화 : 더보기 -> 스크롤 반복"
   ]
  },
  {
   "cell_type": "code",
   "execution_count": 65,
   "id": "1fa94b2f",
   "metadata": {},
   "outputs": [
    {
     "name": "stdout",
     "output_type": "stream",
     "text": [
      "마지막 페이지입니다.\n"
     ]
    }
   ],
   "source": [
    "while True:\n",
    "    try:\n",
    "        driver.execute_script('window.scrollTo(0,document.body.scrollHeight)')\n",
    "        time.sleep(3)\n",
    "\n",
    "        current_height = driver.execute_script('return document.body.scrollHeight')\n",
    "\n",
    "        \n",
    "        driver.find_element('xpath','//*[@id=\"app-root\"]/div/div/div/div[7]/div[2]/div[3]/div[2]/a').click()\n",
    "        \n",
    "        \n",
    "        if prev_height == current_height:\n",
    "            break\n",
    "              \n",
    "        prev_height = current_height\n",
    "        #time.sleep(1)\n",
    "    except:\n",
    "        print(\"마지막 페이지입니다.\")\n",
    "        break\n",
    "        \n",
    "#driver.quit()\n",
    "        "
   ]
  },
  {
   "cell_type": "markdown",
   "id": "19470b19",
   "metadata": {},
   "source": [
    "#### 현재페이지의 html 코드 가져오기\n",
    "    여기서 에러가 발생... \n",
    "    모든 리뷰가 코드에 반영되어 있지만 가져오지 못함 \n",
    "    * 해결방법: driver.page_source를 이용해 현재 페이지 코드를 가져올 수 있었음"
   ]
  },
  {
   "cell_type": "code",
   "execution_count": 1,
   "id": "bb7cf8d9",
   "metadata": {},
   "outputs": [],
   "source": [
    "soup = BeautifulSoup(driver.page_source,'html.parser')\n",
    "soup"
   ]
  },
  {
   "cell_type": "code",
   "execution_count": 67,
   "id": "655f2a50",
   "metadata": {},
   "outputs": [
    {
     "data": {
      "text/plain": [
       "'대흥동 홍콩구락부 술집 추천할게요! 분위기도 좋고 마치 여행 온 느낌이에요! 이국적인 요리지만 거부감 없이 다 먹을 수 있는 맛있는 안주들이 잔뜩 있구오 분위기도 진짜 홍콩에 온 것 같은 느낌이에요!! 사진찍기 너무 좋고 안주도 전체적으로 다 마싰습니다 ㅎㅎㅎ 칭따오나 연태고량주도 있어서 더 좋아요 ㅎㅎㅎ 대흥동 술집 찾으시는 분들 가보시면 좋을 것 같아요 ㅎㅎㅎ'"
      ]
     },
     "execution_count": 67,
     "metadata": {},
     "output_type": "execute_result"
    }
   ],
   "source": [
    "review = soup.find('a',{'class':'xHaT3'}).get_text()\n",
    "review"
   ]
  },
  {
   "cell_type": "code",
   "execution_count": 68,
   "id": "acb81ece",
   "metadata": {},
   "outputs": [
    {
     "data": {
      "text/plain": [
       "5"
      ]
     },
     "execution_count": 68,
     "metadata": {},
     "output_type": "execute_result"
    }
   ],
   "source": [
    "review = soup.find('li',{'class':'YeINN'})\n",
    "len(review)"
   ]
  },
  {
   "cell_type": "code",
   "execution_count": 2,
   "id": "42d73c55",
   "metadata": {},
   "outputs": [],
   "source": [
    "review = soup.find_all('ul',{'class':'eCPGL'})\n",
    "review"
   ]
  },
  {
   "cell_type": "markdown",
   "id": "3946b664",
   "metadata": {},
   "source": [
    "#### 뷰티풀수프의 find_all 을 통해 전체 리뷰 가져오기"
   ]
  },
  {
   "cell_type": "code",
   "execution_count": 3,
   "id": "1b555f60",
   "metadata": {
    "scrolled": false
   },
   "outputs": [],
   "source": [
    "review = soup.find_all('div',{'class':'ZZ4OK IwhtZ'})\n",
    "review\n",
    "#zPfVt\n",
    "#ZZ4OK IwhtZ"
   ]
  },
  {
   "cell_type": "code",
   "execution_count": 4,
   "id": "3b20f3f2",
   "metadata": {},
   "outputs": [],
   "source": [
    "reviews = soup.find_all('span',{'class':'zPfVt'})\n",
    "reviews"
   ]
  },
  {
   "cell_type": "code",
   "execution_count": 72,
   "id": "1f7277f5",
   "metadata": {
    "scrolled": true
   },
   "outputs": [
    {
     "data": {
      "text/plain": [
       "294"
      ]
     },
     "execution_count": 72,
     "metadata": {},
     "output_type": "execute_result"
    }
   ],
   "source": [
    "len(reviews)"
   ]
  },
  {
   "cell_type": "markdown",
   "id": "2d02099b",
   "metadata": {},
   "source": [
    "#### 리뷰를 데이터프레임화 시켜 엑셀파일로 저장"
   ]
  },
  {
   "cell_type": "code",
   "execution_count": 73,
   "id": "442f9c5d",
   "metadata": {},
   "outputs": [],
   "source": [
    "review_list = []\n",
    "\n",
    "for review in reviews:\n",
    "    comment = review.get_text()\n",
    "    review_list.append(comment)\n",
    "\n",
    "#.get_text().strip()\n",
    "\n",
    "df2 = pd.DataFrame({'review':review_list})"
   ]
  },
  {
   "cell_type": "code",
   "execution_count": 74,
   "id": "a29215fd",
   "metadata": {},
   "outputs": [
    {
     "data": {
      "text/plain": [
       "294"
      ]
     },
     "execution_count": 74,
     "metadata": {},
     "output_type": "execute_result"
    }
   ],
   "source": [
    "len(df2)"
   ]
  },
  {
   "cell_type": "code",
   "execution_count": 75,
   "id": "e1f61d69",
   "metadata": {
    "scrolled": true
   },
   "outputs": [
    {
     "data": {
      "text/html": [
       "<div>\n",
       "<style scoped>\n",
       "    .dataframe tbody tr th:only-of-type {\n",
       "        vertical-align: middle;\n",
       "    }\n",
       "\n",
       "    .dataframe tbody tr th {\n",
       "        vertical-align: top;\n",
       "    }\n",
       "\n",
       "    .dataframe thead th {\n",
       "        text-align: right;\n",
       "    }\n",
       "</style>\n",
       "<table border=\"1\" class=\"dataframe\">\n",
       "  <thead>\n",
       "    <tr style=\"text-align: right;\">\n",
       "      <th></th>\n",
       "      <th>review</th>\n",
       "    </tr>\n",
       "  </thead>\n",
       "  <tbody>\n",
       "    <tr>\n",
       "      <th>0</th>\n",
       "      <td>대흥동 홍콩구락부 술집 추천할게요! 분위기도 좋고 마치 여행 온 느낌이에요! 이국적...</td>\n",
       "    </tr>\n",
       "    <tr>\n",
       "      <th>1</th>\n",
       "      <td>유성에 홍콩구락부 가보고 너무 맘에들어서 본점도 기대를 가지고 방문했는데 음 좀 실...</td>\n",
       "    </tr>\n",
       "    <tr>\n",
       "      <th>2</th>\n",
       "      <td>광동식갈비 볶음밥이 진짜 맛있어요. 현지에 있어도 맛집으로 줄설 듯.\\n코코넛 시리...</td>\n",
       "    </tr>\n",
       "    <tr>\n",
       "      <th>3</th>\n",
       "      <td>홍콩 느낌으로 유명한 곳이여서 맛은 기대 안하고 갔는데 음식 하나하나 정말 맛있더라...</td>\n",
       "    </tr>\n",
       "    <tr>\n",
       "      <th>4</th>\n",
       "      <td>친구들가 가볍게 식사하고\\n망고맥주가 너무 맛있었어요🥹</td>\n",
       "    </tr>\n",
       "    <tr>\n",
       "      <th>5</th>\n",
       "      <td>인테리어 보고찾아왓는데 너무너무맛있어요 ㅠㅠ 동파육도 부드럽고 소스도 너뮤 맛있고 ...</td>\n",
       "    </tr>\n",
       "    <tr>\n",
       "      <th>6</th>\n",
       "      <td>대전 처음 와서 방문한 홍콩요리 집이에요😀 들어오자마자 홍콩 분위기가 물씬 풍겨서 ...</td>\n",
       "    </tr>\n",
       "    <tr>\n",
       "      <th>7</th>\n",
       "      <td>지삼선과 코코넛새우를 시켰습니다.\\n양은 타 봉명동의 중화주점과 비교하여 양이 현저...</td>\n",
       "    </tr>\n",
       "    <tr>\n",
       "      <th>8</th>\n",
       "      <td>매번 지나만 다니다 다음주 싱가포르 여행 준비하다가 모닝글로리에 빠져서 방문했는데 ...</td>\n",
       "    </tr>\n",
       "    <tr>\n",
       "      <th>9</th>\n",
       "      <td>음식 다 맛있어요 b\\n혁명소주 꼭드세요 훅감 😵‍💫\\n대전 핫플 찜 💯</td>\n",
       "    </tr>\n",
       "    <tr>\n",
       "      <th>10</th>\n",
       "      <td>대흥동에 특별하게 먹고싶은 술집이 있다면 홍콩구락부기 제격인거같아여 맛도 있거 사진...</td>\n",
       "    </tr>\n",
       "    <tr>\n",
       "      <th>11</th>\n",
       "      <td>너무 다 좋았던거 같아요 ㅎㅎㅎ 사천식 닭튀김도 너무 맛있고 하이볼도 👍  푸딩도 ...</td>\n",
       "    </tr>\n",
       "    <tr>\n",
       "      <th>12</th>\n",
       "      <td>우육탕은 꼭 당면 추가해서 드세요! 동파육은 20분 정도 걸리니까 참고하세요. 맛은...</td>\n",
       "    </tr>\n",
       "    <tr>\n",
       "      <th>13</th>\n",
       "      <td>동파육 양이 많고맛있어요!!  두명이서 동파육이랑 갈비볶음밥 시켰는데 배부르게 먹고...</td>\n",
       "    </tr>\n",
       "    <tr>\n",
       "      <th>14</th>\n",
       "      <td>식사도  되는  술집!!  마라가  맛있다고  했지만  라즈지가 괜찮았어용 크림새우...</td>\n",
       "    </tr>\n",
       "  </tbody>\n",
       "</table>\n",
       "</div>"
      ],
      "text/plain": [
       "                                               review\n",
       "0   대흥동 홍콩구락부 술집 추천할게요! 분위기도 좋고 마치 여행 온 느낌이에요! 이국적...\n",
       "1   유성에 홍콩구락부 가보고 너무 맘에들어서 본점도 기대를 가지고 방문했는데 음 좀 실...\n",
       "2   광동식갈비 볶음밥이 진짜 맛있어요. 현지에 있어도 맛집으로 줄설 듯.\\n코코넛 시리...\n",
       "3   홍콩 느낌으로 유명한 곳이여서 맛은 기대 안하고 갔는데 음식 하나하나 정말 맛있더라...\n",
       "4                      친구들가 가볍게 식사하고\\n망고맥주가 너무 맛있었어요🥹\n",
       "5   인테리어 보고찾아왓는데 너무너무맛있어요 ㅠㅠ 동파육도 부드럽고 소스도 너뮤 맛있고 ...\n",
       "6   대전 처음 와서 방문한 홍콩요리 집이에요😀 들어오자마자 홍콩 분위기가 물씬 풍겨서 ...\n",
       "7   지삼선과 코코넛새우를 시켰습니다.\\n양은 타 봉명동의 중화주점과 비교하여 양이 현저...\n",
       "8   매번 지나만 다니다 다음주 싱가포르 여행 준비하다가 모닝글로리에 빠져서 방문했는데 ...\n",
       "9            음식 다 맛있어요 b\\n혁명소주 꼭드세요 훅감 😵‍💫\\n대전 핫플 찜 💯\n",
       "10  대흥동에 특별하게 먹고싶은 술집이 있다면 홍콩구락부기 제격인거같아여 맛도 있거 사진...\n",
       "11  너무 다 좋았던거 같아요 ㅎㅎㅎ 사천식 닭튀김도 너무 맛있고 하이볼도 👍  푸딩도 ...\n",
       "12  우육탕은 꼭 당면 추가해서 드세요! 동파육은 20분 정도 걸리니까 참고하세요. 맛은...\n",
       "13  동파육 양이 많고맛있어요!!  두명이서 동파육이랑 갈비볶음밥 시켰는데 배부르게 먹고...\n",
       "14  식사도  되는  술집!!  마라가  맛있다고  했지만  라즈지가 괜찮았어용 크림새우..."
      ]
     },
     "execution_count": 75,
     "metadata": {},
     "output_type": "execute_result"
    }
   ],
   "source": [
    "df2.head(15)"
   ]
  },
  {
   "cell_type": "code",
   "execution_count": 76,
   "id": "db5767b3",
   "metadata": {
    "scrolled": true
   },
   "outputs": [
    {
     "data": {
      "text/plain": [
       "294"
      ]
     },
     "execution_count": 76,
     "metadata": {},
     "output_type": "execute_result"
    }
   ],
   "source": [
    "df2.shape[0]"
   ]
  },
  {
   "cell_type": "code",
   "execution_count": 77,
   "id": "13b17de2",
   "metadata": {},
   "outputs": [],
   "source": [
    "df2.to_excel('HK_Mara_review.xlsx')"
   ]
  }
 ],
 "metadata": {
  "kernelspec": {
   "display_name": "Python 3 (ipykernel)",
   "language": "python",
   "name": "python3"
  },
  "language_info": {
   "codemirror_mode": {
    "name": "ipython",
    "version": 3
   },
   "file_extension": ".py",
   "mimetype": "text/x-python",
   "name": "python",
   "nbconvert_exporter": "python",
   "pygments_lexer": "ipython3",
   "version": "3.10.9"
  }
 },
 "nbformat": 4,
 "nbformat_minor": 5
}
