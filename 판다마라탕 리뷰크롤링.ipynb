{
 "cells": [
  {
   "cell_type": "markdown",
   "id": "9b76d1b7",
   "metadata": {},
   "source": [
    "# 판다마라탕 리뷰크롤링"
   ]
  },
  {
   "cell_type": "markdown",
   "id": "71cc35b7",
   "metadata": {},
   "source": [
    "#### beautifulsoup4, selenium, xlsxwriter 설치"
   ]
  },
  {
   "cell_type": "code",
   "execution_count": 1,
   "id": "c71bae30",
   "metadata": {},
   "outputs": [],
   "source": [
    "#!pip3 install beautifulsoup4"
   ]
  },
  {
   "cell_type": "code",
   "execution_count": 2,
   "id": "38d25761",
   "metadata": {},
   "outputs": [],
   "source": [
    "#!pip install selenium"
   ]
  },
  {
   "cell_type": "code",
   "execution_count": 3,
   "id": "e4afd015",
   "metadata": {},
   "outputs": [],
   "source": [
    "#!pip install xlsxwriter"
   ]
  },
  {
   "cell_type": "markdown",
   "id": "7802acde",
   "metadata": {},
   "source": [
    "#### 필요한 패키지 임폴트"
   ]
  },
  {
   "cell_type": "code",
   "execution_count": 4,
   "id": "e130085c",
   "metadata": {},
   "outputs": [],
   "source": [
    "from selenium import webdriver\n",
    "from selenium.webdriver.common.keys import Keys\n",
    "from bs4 import BeautifulSoup\n",
    "from time import sleep\n",
    "import requests\n",
    "import re\n",
    "import pandas as pd\n",
    "import numpy as np\n",
    "import os\n",
    "import time\n",
    "import urllib.request\n",
    "from selenium.webdriver.common.keys import Keys\n",
    "\n",
    "import warnings\n",
    "warnings.filterwarnings('ignore')"
   ]
  },
  {
   "cell_type": "markdown",
   "id": "aafeb2ae",
   "metadata": {},
   "source": [
    "#### 셀레니움을 이용해 크롬드라이브 제어 및 url 가져오기"
   ]
  },
  {
   "cell_type": "code",
   "execution_count": 5,
   "id": "f5cb90cc",
   "metadata": {},
   "outputs": [],
   "source": [
    "#/Applications/Google Chrome.app/Contents/MacOS/Google Chrome\n",
    "from selenium import webdriver\n",
    "\n",
    "driver = webdriver.Chrome()\n",
    "driver.get(\"https://m.place.naver.com/restaurant/1221479388/review/visitor?entry=ple\")\n",
    "#time.sleep(2)"
   ]
  },
  {
   "cell_type": "code",
   "execution_count": 6,
   "id": "a7327391",
   "metadata": {},
   "outputs": [],
   "source": [
    "#driver.find_element('xpath','//*[@id=\"app-root\"]/div/div/div/div[5]/div/div/div/div/a[5]').click()"
   ]
  },
  {
   "cell_type": "code",
   "execution_count": 7,
   "id": "d8ca4a18",
   "metadata": {},
   "outputs": [],
   "source": [
    "driver.execute_script('window.scrollTo(0,document.body.scrollHeight)')"
   ]
  },
  {
   "cell_type": "code",
   "execution_count": 8,
   "id": "3f333748",
   "metadata": {},
   "outputs": [],
   "source": [
    "prev_height = driver.execute_script('return document.body.scrollHeight')"
   ]
  },
  {
   "cell_type": "markdown",
   "id": "6ca86e0c",
   "metadata": {},
   "source": [
    "#### 웹자동화 : 더보기 -> 스크롤 반복"
   ]
  },
  {
   "cell_type": "code",
   "execution_count": 9,
   "id": "1fa94b2f",
   "metadata": {},
   "outputs": [
    {
     "name": "stdout",
     "output_type": "stream",
     "text": [
      "마지막 페이지입니다.\n"
     ]
    }
   ],
   "source": [
    "while True:\n",
    "    try:\n",
    "        driver.execute_script('window.scrollTo(0,document.body.scrollHeight)')\n",
    "        time.sleep(3)\n",
    "\n",
    "        current_height = driver.execute_script('return document.body.scrollHeight')\n",
    "\n",
    "        \n",
    "        driver.find_element('xpath','//*[@id=\"app-root\"]/div/div/div/div[7]/div[2]/div[3]/div[2]/a').click()\n",
    "        \n",
    "        \n",
    "        if prev_height == current_height:\n",
    "            break\n",
    "              \n",
    "        prev_height = current_height\n",
    "        #time.sleep(1)\n",
    "    except:\n",
    "        print(\"마지막 페이지입니다.\")\n",
    "        break\n",
    "        \n",
    "#driver.quit()\n",
    "        "
   ]
  },
  {
   "cell_type": "markdown",
   "id": "19470b19",
   "metadata": {},
   "source": [
    "#### 현재페이지의 html 코드 가져오기\n",
    "    여기서 에러가 발생... \n",
    "    모든 리뷰가 코드에 반영되어 있지만 가져오지 못함 \n",
    "    * 해결방법: driver.page_source를 이용해 현재 페이지 코드를 가져올 수 있었음"
   ]
  },
  {
   "cell_type": "code",
   "execution_count": 1,
   "id": "bb7cf8d9",
   "metadata": {},
   "outputs": [],
   "source": [
    "soup = BeautifulSoup(driver.page_source,'html.parser')\n",
    "soup"
   ]
  },
  {
   "cell_type": "code",
   "execution_count": 11,
   "id": "655f2a50",
   "metadata": {},
   "outputs": [
    {
     "data": {
      "text/plain": [
       "'은행동. 판다마라탕. 다들 식성이 달라서 가지각색. 두부탕. 감자탕. 해물탕.  ㅋㅋㅋㅋㅋ 마음대로 골라먹을 수 있고 행사라서 고기 무료!!! 대에박.내용 더보기'"
      ]
     },
     "execution_count": 11,
     "metadata": {},
     "output_type": "execute_result"
    }
   ],
   "source": [
    "review = soup.find('a',{'class':'xHaT3'}).get_text()\n",
    "review"
   ]
  },
  {
   "cell_type": "code",
   "execution_count": 12,
   "id": "acb81ece",
   "metadata": {},
   "outputs": [
    {
     "data": {
      "text/plain": [
       "5"
      ]
     },
     "execution_count": 12,
     "metadata": {},
     "output_type": "execute_result"
    }
   ],
   "source": [
    "review = soup.find('li',{'class':'YeINN'})\n",
    "len(review)"
   ]
  },
  {
   "cell_type": "code",
   "execution_count": 2,
   "id": "42d73c55",
   "metadata": {},
   "outputs": [],
   "source": [
    "review = soup.find_all('ul',{'class':'eCPGL'})\n",
    "review"
   ]
  },
  {
   "cell_type": "markdown",
   "id": "3946b664",
   "metadata": {},
   "source": [
    "#### 뷰티풀수프의 find_all 을 통해 전체 리뷰 가져오기"
   ]
  },
  {
   "cell_type": "code",
   "execution_count": 3,
   "id": "1b555f60",
   "metadata": {
    "scrolled": false
   },
   "outputs": [],
   "source": [
    "review = soup.find_all('div',{'class':'ZZ4OK IwhtZ'})\n",
    "review\n",
    "#zPfVt\n",
    "#ZZ4OK IwhtZ"
   ]
  },
  {
   "cell_type": "code",
   "execution_count": 4,
   "id": "3b20f3f2",
   "metadata": {},
   "outputs": [],
   "source": [
    "reviews = soup.find_all('span',{'class':'zPfVt'})\n",
    "reviews"
   ]
  },
  {
   "cell_type": "code",
   "execution_count": 16,
   "id": "1f7277f5",
   "metadata": {
    "scrolled": true
   },
   "outputs": [
    {
     "data": {
      "text/plain": [
       "435"
      ]
     },
     "execution_count": 16,
     "metadata": {},
     "output_type": "execute_result"
    }
   ],
   "source": [
    "len(reviews)"
   ]
  },
  {
   "cell_type": "markdown",
   "id": "2d02099b",
   "metadata": {},
   "source": [
    "#### 리뷰를 데이터프레임화 시켜 엑셀파일로 저장"
   ]
  },
  {
   "cell_type": "code",
   "execution_count": 17,
   "id": "442f9c5d",
   "metadata": {},
   "outputs": [],
   "source": [
    "review_list = []\n",
    "\n",
    "for review in reviews:\n",
    "    comment = review.get_text()\n",
    "    review_list.append(comment)\n",
    "\n",
    "#.get_text().strip()\n",
    "\n",
    "df2 = pd.DataFrame({'review':review_list})"
   ]
  },
  {
   "cell_type": "code",
   "execution_count": 18,
   "id": "a29215fd",
   "metadata": {},
   "outputs": [
    {
     "data": {
      "text/plain": [
       "435"
      ]
     },
     "execution_count": 18,
     "metadata": {},
     "output_type": "execute_result"
    }
   ],
   "source": [
    "len(df2)"
   ]
  },
  {
   "cell_type": "code",
   "execution_count": 19,
   "id": "e1f61d69",
   "metadata": {},
   "outputs": [
    {
     "data": {
      "text/html": [
       "<div>\n",
       "<style scoped>\n",
       "    .dataframe tbody tr th:only-of-type {\n",
       "        vertical-align: middle;\n",
       "    }\n",
       "\n",
       "    .dataframe tbody tr th {\n",
       "        vertical-align: top;\n",
       "    }\n",
       "\n",
       "    .dataframe thead th {\n",
       "        text-align: right;\n",
       "    }\n",
       "</style>\n",
       "<table border=\"1\" class=\"dataframe\">\n",
       "  <thead>\n",
       "    <tr style=\"text-align: right;\">\n",
       "      <th></th>\n",
       "      <th>review</th>\n",
       "    </tr>\n",
       "  </thead>\n",
       "  <tbody>\n",
       "    <tr>\n",
       "      <th>0</th>\n",
       "      <td>은행동. 판다마라탕. 다들 식성이 달라서 가지각색. 두부탕. 감자탕. 해물탕.  ㅋ...</td>\n",
       "    </tr>\n",
       "    <tr>\n",
       "      <th>1</th>\n",
       "      <td>못 기다리겠다 일단 한 입만 먹고 나머지 사진은 나중에 찍자</td>\n",
       "    </tr>\n",
       "    <tr>\n",
       "      <th>2</th>\n",
       "      <td>진짜 맛있게 잘먹었습니다 여기 있는마라탕 항상 한그롯 뚝딱^^ 오늘 친구랑 같이와서...</td>\n",
       "    </tr>\n",
       "    <tr>\n",
       "      <th>3</th>\n",
       "      <td>시험끝나고 먹으러왔어요~!~! 시험점수 날아가라~~~마라먹고 나라가라~~~~~ 마싯어요💜</td>\n",
       "    </tr>\n",
       "    <tr>\n",
       "      <th>4</th>\n",
       "      <td>친구랑 주기적으로 먹으러 오는 은행동 맛집이에용 개인적으로 먹어 본 마라탕 중에 제...</td>\n",
       "    </tr>\n",
       "    <tr>\n",
       "      <th>5</th>\n",
       "      <td>가게가 2층에 있는데 깔끔하고 분위기도 좋아요\\n고기 서비스 이벤트도 하고 있어서 ...</td>\n",
       "    </tr>\n",
       "    <tr>\n",
       "      <th>6</th>\n",
       "      <td>은행동 판다마라탕 아이들이 좋아해서 같이 먹어봣어요 먹을만하네요 맛잇게 먹엇어요</td>\n",
       "    </tr>\n",
       "    <tr>\n",
       "      <th>7</th>\n",
       "      <td>팽이버섯이 너무 맛있고, 위생도 좋아요!! 맛있어요 추천!!❤❤</td>\n",
       "    </tr>\n",
       "    <tr>\n",
       "      <th>8</th>\n",
       "      <td>진짜 완젼 맛있어요!!! 사장님도 착하셔서 친구들과 매일 와요❤️</td>\n",
       "    </tr>\n",
       "    <tr>\n",
       "      <th>9</th>\n",
       "      <td>맛있어요! 소스도 만들어 먹을 수 있어서 좋았습니다ㅎㅎ</td>\n",
       "    </tr>\n",
       "    <tr>\n",
       "      <th>10</th>\n",
       "      <td>소스 찍어먹을 수 있어서 좋아요. 은행동 오면 꼭 먹습니다</td>\n",
       "    </tr>\n",
       "    <tr>\n",
       "      <th>11</th>\n",
       "      <td>맛잇어요 ^^ 다 먹고 나갈 때 아이스크림도 퍼가세욤\\n</td>\n",
       "    </tr>\n",
       "    <tr>\n",
       "      <th>12</th>\n",
       "      <td>여러 번 왔는데 리뷰는 처음이에요^!^ 맛있어서 자주 와용</td>\n",
       "    </tr>\n",
       "    <tr>\n",
       "      <th>13</th>\n",
       "      <td>진짜 여긴 가서 먹으면 항상 한그릇 뚝딱!! 입니다 너무 맛있어요 ㅠ 전 다른 체인...</td>\n",
       "    </tr>\n",
       "    <tr>\n",
       "      <th>14</th>\n",
       "      <td>2단계 전혀 안매워요 담엔 단계를 올려서 먹어야겠어요</td>\n",
       "    </tr>\n",
       "  </tbody>\n",
       "</table>\n",
       "</div>"
      ],
      "text/plain": [
       "                                               review\n",
       "0   은행동. 판다마라탕. 다들 식성이 달라서 가지각색. 두부탕. 감자탕. 해물탕.  ㅋ...\n",
       "1                   못 기다리겠다 일단 한 입만 먹고 나머지 사진은 나중에 찍자\n",
       "2   진짜 맛있게 잘먹었습니다 여기 있는마라탕 항상 한그롯 뚝딱^^ 오늘 친구랑 같이와서...\n",
       "3   시험끝나고 먹으러왔어요~!~! 시험점수 날아가라~~~마라먹고 나라가라~~~~~ 마싯어요💜\n",
       "4   친구랑 주기적으로 먹으러 오는 은행동 맛집이에용 개인적으로 먹어 본 마라탕 중에 제...\n",
       "5   가게가 2층에 있는데 깔끔하고 분위기도 좋아요\\n고기 서비스 이벤트도 하고 있어서 ...\n",
       "6        은행동 판다마라탕 아이들이 좋아해서 같이 먹어봣어요 먹을만하네요 맛잇게 먹엇어요\n",
       "7                 팽이버섯이 너무 맛있고, 위생도 좋아요!! 맛있어요 추천!!❤❤\n",
       "8                진짜 완젼 맛있어요!!! 사장님도 착하셔서 친구들과 매일 와요❤️\n",
       "9                      맛있어요! 소스도 만들어 먹을 수 있어서 좋았습니다ㅎㅎ\n",
       "10                   소스 찍어먹을 수 있어서 좋아요. 은행동 오면 꼭 먹습니다\n",
       "11                    맛잇어요 ^^ 다 먹고 나갈 때 아이스크림도 퍼가세욤\\n\n",
       "12                   여러 번 왔는데 리뷰는 처음이에요^!^ 맛있어서 자주 와용\n",
       "13  진짜 여긴 가서 먹으면 항상 한그릇 뚝딱!! 입니다 너무 맛있어요 ㅠ 전 다른 체인...\n",
       "14                      2단계 전혀 안매워요 담엔 단계를 올려서 먹어야겠어요"
      ]
     },
     "execution_count": 19,
     "metadata": {},
     "output_type": "execute_result"
    }
   ],
   "source": [
    "df2.head(15)"
   ]
  },
  {
   "cell_type": "code",
   "execution_count": 20,
   "id": "db5767b3",
   "metadata": {
    "scrolled": true
   },
   "outputs": [
    {
     "data": {
      "text/plain": [
       "435"
      ]
     },
     "execution_count": 20,
     "metadata": {},
     "output_type": "execute_result"
    }
   ],
   "source": [
    "df2.shape[0]"
   ]
  },
  {
   "cell_type": "code",
   "execution_count": 22,
   "id": "13b17de2",
   "metadata": {},
   "outputs": [],
   "source": [
    "df2.to_excel('Panda_Mara_review.xlsx')"
   ]
  }
 ],
 "metadata": {
  "kernelspec": {
   "display_name": "Python 3 (ipykernel)",
   "language": "python",
   "name": "python3"
  },
  "language_info": {
   "codemirror_mode": {
    "name": "ipython",
    "version": 3
   },
   "file_extension": ".py",
   "mimetype": "text/x-python",
   "name": "python",
   "nbconvert_exporter": "python",
   "pygments_lexer": "ipython3",
   "version": "3.10.9"
  }
 },
 "nbformat": 4,
 "nbformat_minor": 5
}
