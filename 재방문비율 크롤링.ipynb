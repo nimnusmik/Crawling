{
 "cells": [
  {
   "cell_type": "markdown",
   "id": "9b76d1b7",
   "metadata": {},
   "source": [
    "# 네이버 식당(호호식당-대학로) 리뷰 크롤링"
   ]
  },
  {
   "cell_type": "markdown",
   "id": "71cc35b7",
   "metadata": {},
   "source": [
    "#### beautifulsoup4, selenium 설치"
   ]
  },
  {
   "cell_type": "code",
   "execution_count": 1,
   "id": "c71bae30",
   "metadata": {
    "scrolled": false
   },
   "outputs": [],
   "source": [
    "#!pip3 install beautifulsoup4"
   ]
  },
  {
   "cell_type": "code",
   "execution_count": 2,
   "id": "38d25761",
   "metadata": {},
   "outputs": [],
   "source": [
    "#!pip install selenium"
   ]
  },
  {
   "cell_type": "markdown",
   "id": "7802acde",
   "metadata": {},
   "source": [
    "#### 필요한 패키지 임폴트"
   ]
  },
  {
   "cell_type": "code",
   "execution_count": 1,
   "id": "e130085c",
   "metadata": {},
   "outputs": [],
   "source": [
    "from selenium import webdriver\n",
    "from selenium.webdriver.common.keys import Keys\n",
    "from bs4 import BeautifulSoup\n",
    "from time import sleep\n",
    "import requests\n",
    "import re\n",
    "import pandas as pd\n",
    "import numpy as np\n",
    "import os\n",
    "import time\n",
    "import urllib.request\n",
    "from selenium.webdriver.common.keys import Keys\n",
    "\n",
    "import warnings\n",
    "warnings.filterwarnings('ignore')"
   ]
  },
  {
   "cell_type": "markdown",
   "id": "aafeb2ae",
   "metadata": {},
   "source": [
    "#### 셀레니움을 이용해 크롬드라이브 제어 및 url 가져오기"
   ]
  },
  {
   "cell_type": "code",
   "execution_count": 3,
   "id": "f5cb90cc",
   "metadata": {},
   "outputs": [],
   "source": [
    "#/Applications/Google Chrome.app/Contents/MacOS/Google Chrome\n",
    "from selenium import webdriver\n",
    "\n",
    "driver = webdriver.Chrome()\n",
    "driver.get(\"https://m.place.naver.com/restaurant/85806567/review/visitor?entry=ple\")\n",
    "#time.sleep(2)"
   ]
  },
  {
   "cell_type": "code",
   "execution_count": 95,
   "id": "a7327391",
   "metadata": {},
   "outputs": [],
   "source": [
    "#driver.find_element('xpath','//*[@id=\"app-root\"]/div/div/div/div[5]/div/div/div/div/a[5]').click()"
   ]
  },
  {
   "cell_type": "code",
   "execution_count": 8,
   "id": "d8ca4a18",
   "metadata": {},
   "outputs": [],
   "source": [
    "driver.execute_script('window.scrollTo(0,document.body.scrollHeight)')"
   ]
  },
  {
   "cell_type": "code",
   "execution_count": 9,
   "id": "3f333748",
   "metadata": {},
   "outputs": [],
   "source": [
    "prev_height = driver.execute_script('return document.body.scrollHeight')"
   ]
  },
  {
   "cell_type": "markdown",
   "id": "6ca86e0c",
   "metadata": {},
   "source": [
    "#### 웹자동화 : 더보기 -> 스크롤 반복"
   ]
  },
  {
   "cell_type": "code",
   "execution_count": 11,
   "id": "1fa94b2f",
   "metadata": {},
   "outputs": [
    {
     "name": "stdout",
     "output_type": "stream",
     "text": [
      "마지막 페이지입니다.\n"
     ]
    }
   ],
   "source": [
    "while True:\n",
    "    try:\n",
    "        driver.execute_script('window.scrollTo(0,document.body.scrollHeight)')\n",
    "        time.sleep(2)\n",
    "\n",
    "        current_height = driver.execute_script('return document.body.scrollHeight')\n",
    "\n",
    "        \n",
    "        driver.find_element('xpath','//*[@id=\"app-root\"]/div/div/div/div[7]/div[2]/div[3]/div[2]/a').click()\n",
    "        \n",
    "        \n",
    "        if prev_height == current_height:\n",
    "            break\n",
    "              \n",
    "        prev_height = current_height\n",
    "        \n",
    "    except:\n",
    "        print(\"마지막 페이지입니다.\")\n",
    "        break\n",
    "        \n",
    "#driver.quit()\n",
    "        "
   ]
  },
  {
   "cell_type": "markdown",
   "id": "19470b19",
   "metadata": {},
   "source": [
    "#### 현재페이지의 html 코드 가져오기\n",
    "    여기서 에러가 발생... \n",
    "    모든 리뷰가 코드에 반영되어 있지만 가져오지 못함 \n",
    "    * 해결방법: driver.page_source를 이용해 현재 페이지 코드를 가져올 수 있었음"
   ]
  },
  {
   "cell_type": "code",
   "execution_count": 4,
   "id": "bb7cf8d9",
   "metadata": {
    "scrolled": false
   },
   "outputs": [],
   "source": [
    "soup = BeautifulSoup(driver.page_source,'html.parser')\n",
    "soup"
   ]
  },
  {
   "cell_type": "code",
   "execution_count": 5,
   "id": "531c37e7",
   "metadata": {},
   "outputs": [],
   "source": [
    "visit = soup.find_all('div',{'class':'sb8UA'})\n",
    "visit\n",
    "\n",
    "#soup.find('a',{'class':'sb8UA'}).get_text()\n",
    "#soup.find_all('ul',{'class':'sb8UA'})"
   ]
  },
  {
   "cell_type": "markdown",
   "id": "9e7f9710",
   "metadata": {},
   "source": [
    "# n번째 방문 크롤링"
   ]
  },
  {
   "cell_type": "code",
   "execution_count": 6,
   "id": "81be9ccd",
   "metadata": {},
   "outputs": [],
   "source": [
    "visit = soup.find_all('span',{'class':'P1zUJ'})\n",
    "visit\n",
    "\n",
    "#soup.find('a',{'class':'sb8UA'}).get_text()\n",
    "#soup.find_all('ul',{'class':'sb8UA'})"
   ]
  },
  {
   "cell_type": "code",
   "execution_count": 22,
   "id": "37bdb632",
   "metadata": {},
   "outputs": [
    {
     "data": {
      "text/plain": [
       "'리뷰 8'"
      ]
     },
     "execution_count": 22,
     "metadata": {},
     "output_type": "execute_result"
    }
   ],
   "source": [
    "visit1 = soup.find('span',{'class':'P1zUJ'})\n",
    "visit1\n",
    "\n",
    "#soup.find('a',{'class':'sb8UA'}).get_text()\n",
    "#soup.find_all('ul',{'class':'sb8UA'})\n",
    "visit1.get_text()"
   ]
  },
  {
   "cell_type": "code",
   "execution_count": 36,
   "id": "80272374",
   "metadata": {},
   "outputs": [
    {
     "data": {
      "text/plain": [
       "[<div class=\"sb8UA\"><span class=\"P1zUJ\"><span class=\"place_blind\">최근 방문일</span><time aria-hidden=\"true\">5.9.화</time><span class=\"place_blind\">2023년 5월 9일 화요일</span></span><span class=\"P1zUJ\">1<!-- -->번째 방문</span><span class=\"P1zUJ\">예약</span></div>,\n",
       " <div class=\"sb8UA\"><span class=\"P1zUJ\"><span class=\"place_blind\">최근 방문일</span><time aria-hidden=\"true\">5.6.토</time><span class=\"place_blind\">2023년 5월 6일 토요일</span></span><span class=\"P1zUJ\">1<!-- -->번째 방문</span><span class=\"P1zUJ\">예약</span></div>,\n",
       " <div class=\"sb8UA\"><span class=\"P1zUJ\"><span class=\"place_blind\">최근 방문일</span><time aria-hidden=\"true\">5.12.금</time><span class=\"place_blind\">2023년 5월 12일 금요일</span></span><span class=\"P1zUJ\">2<!-- -->번째 방문</span><span class=\"P1zUJ\">예약</span></div>]"
      ]
     },
     "execution_count": 36,
     "metadata": {},
     "output_type": "execute_result"
    }
   ],
   "source": [
    "visit2 = soup.find_all('div',{'class':'sb8UA'})\n",
    "visit2[:3]"
   ]
  },
  {
   "cell_type": "code",
   "execution_count": 45,
   "id": "c8480b49",
   "metadata": {},
   "outputs": [
    {
     "name": "stdout",
     "output_type": "stream",
     "text": [
      "최근 방문일5.9.화2023년 5월 9일 화요일1번째 방문예약\n"
     ]
    },
    {
     "data": {
      "text/plain": [
       "'1번'"
      ]
     },
     "execution_count": 45,
     "metadata": {},
     "output_type": "execute_result"
    }
   ],
   "source": [
    "visit3 = soup.find('div',{'class':'sb8UA'})\n",
    "visit3\n",
    "\n",
    "visit_text = visit3.get_text()\n",
    "print(visit_text)\n",
    "visit_text[26:28]"
   ]
  },
  {
   "cell_type": "code",
   "execution_count": 55,
   "id": "3fbd47f9",
   "metadata": {},
   "outputs": [
    {
     "data": {
      "text/html": [
       "<div>\n",
       "<style scoped>\n",
       "    .dataframe tbody tr th:only-of-type {\n",
       "        vertical-align: middle;\n",
       "    }\n",
       "\n",
       "    .dataframe tbody tr th {\n",
       "        vertical-align: top;\n",
       "    }\n",
       "\n",
       "    .dataframe thead th {\n",
       "        text-align: right;\n",
       "    }\n",
       "</style>\n",
       "<table border=\"1\" class=\"dataframe\">\n",
       "  <thead>\n",
       "    <tr style=\"text-align: right;\">\n",
       "      <th></th>\n",
       "      <th>visit_text</th>\n",
       "    </tr>\n",
       "  </thead>\n",
       "  <tbody>\n",
       "    <tr>\n",
       "      <th>0</th>\n",
       "      <td>최근 방문일5.9.화2023년 5월 9일 화요일1번째 방문예약</td>\n",
       "    </tr>\n",
       "    <tr>\n",
       "      <th>1</th>\n",
       "      <td>최근 방문일5.6.토2023년 5월 6일 토요일1번째 방문예약</td>\n",
       "    </tr>\n",
       "    <tr>\n",
       "      <th>2</th>\n",
       "      <td>최근 방문일5.12.금2023년 5월 12일 금요일2번째 방문예약</td>\n",
       "    </tr>\n",
       "    <tr>\n",
       "      <th>3</th>\n",
       "      <td>최근 방문일5.25.목2023년 5월 25일 목요일1번째 방문영수증</td>\n",
       "    </tr>\n",
       "    <tr>\n",
       "      <th>4</th>\n",
       "      <td>최근 방문일3.31.금2023년 3월 31일 금요일1번째 방문예약</td>\n",
       "    </tr>\n",
       "    <tr>\n",
       "      <th>...</th>\n",
       "      <td>...</td>\n",
       "    </tr>\n",
       "    <tr>\n",
       "      <th>1563</th>\n",
       "      <td>별점5최근 방문일19.2.26.화2019년 2월 26일 화요일1번째 방문영수증</td>\n",
       "    </tr>\n",
       "    <tr>\n",
       "      <th>1564</th>\n",
       "      <td>별점4최근 방문일19.4.3.수2019년 4월 3일 수요일1번째 방문영수증</td>\n",
       "    </tr>\n",
       "    <tr>\n",
       "      <th>1565</th>\n",
       "      <td>별점5최근 방문일19.3.2.토2019년 3월 2일 토요일1번째 방문영수증</td>\n",
       "    </tr>\n",
       "    <tr>\n",
       "      <th>1566</th>\n",
       "      <td>별점4최근 방문일19.3.14.목2019년 3월 14일 목요일1번째 방문영수증</td>\n",
       "    </tr>\n",
       "    <tr>\n",
       "      <th>1567</th>\n",
       "      <td>별점5최근 방문일19.6.6.목2019년 6월 6일 목요일1번째 방문영수증</td>\n",
       "    </tr>\n",
       "  </tbody>\n",
       "</table>\n",
       "<p>1568 rows × 1 columns</p>\n",
       "</div>"
      ],
      "text/plain": [
       "                                       visit_text\n",
       "0              최근 방문일5.9.화2023년 5월 9일 화요일1번째 방문예약\n",
       "1              최근 방문일5.6.토2023년 5월 6일 토요일1번째 방문예약\n",
       "2            최근 방문일5.12.금2023년 5월 12일 금요일2번째 방문예약\n",
       "3           최근 방문일5.25.목2023년 5월 25일 목요일1번째 방문영수증\n",
       "4            최근 방문일3.31.금2023년 3월 31일 금요일1번째 방문예약\n",
       "...                                           ...\n",
       "1563  별점5최근 방문일19.2.26.화2019년 2월 26일 화요일1번째 방문영수증\n",
       "1564    별점4최근 방문일19.4.3.수2019년 4월 3일 수요일1번째 방문영수증\n",
       "1565    별점5최근 방문일19.3.2.토2019년 3월 2일 토요일1번째 방문영수증\n",
       "1566  별점4최근 방문일19.3.14.목2019년 3월 14일 목요일1번째 방문영수증\n",
       "1567    별점5최근 방문일19.6.6.목2019년 6월 6일 목요일1번째 방문영수증\n",
       "\n",
       "[1568 rows x 1 columns]"
      ]
     },
     "execution_count": 55,
     "metadata": {},
     "output_type": "execute_result"
    }
   ],
   "source": [
    "visit_list = []\n",
    "\n",
    "for v in visit2:\n",
    "    \n",
    "    comment = v.get_text()\n",
    "    visit_list.append(comment)\n",
    "\n",
    "#.get_text().strip()\n",
    "\n",
    "df = pd.DataFrame({'visit_text':visit_list})\n",
    "df"
   ]
  },
  {
   "cell_type": "code",
   "execution_count": 56,
   "id": "7ff1c152",
   "metadata": {
    "scrolled": false
   },
   "outputs": [
    {
     "data": {
      "text/plain": [
       "['최근 방문일5.9.화2023년 5월 9일 화요일1번째 방문예약',\n",
       " '최근 방문일5.6.토2023년 5월 6일 토요일1번째 방문예약',\n",
       " '최근 방문일5.12.금2023년 5월 12일 금요일2번째 방문예약',\n",
       " '최근 방문일5.25.목2023년 5월 25일 목요일1번째 방문영수증',\n",
       " '최근 방문일3.31.금2023년 3월 31일 금요일1번째 방문예약']"
      ]
     },
     "execution_count": 56,
     "metadata": {},
     "output_type": "execute_result"
    }
   ],
   "source": [
    "visit_list[:5]"
   ]
  },
  {
   "cell_type": "code",
   "execution_count": 58,
   "id": "b7fcf84c",
   "metadata": {},
   "outputs": [
    {
     "data": {
      "text/plain": [
       "1568"
      ]
     },
     "execution_count": 58,
     "metadata": {},
     "output_type": "execute_result"
    }
   ],
   "source": [
    "import re\n",
    "\n",
    "pattern = r'(\\d+)번째'\n",
    "numbers = []\n",
    "\n",
    "for sentence in visit_list:\n",
    "    match = re.search(pattern, sentence)\n",
    "    if match:\n",
    "        number = match.group(1)\n",
    "        numbers.append(number)\n",
    "\n",
    "len(numbers)"
   ]
  },
  {
   "cell_type": "code",
   "execution_count": 60,
   "id": "a965933d",
   "metadata": {
    "scrolled": true
   },
   "outputs": [
    {
     "data": {
      "text/html": [
       "<div>\n",
       "<style scoped>\n",
       "    .dataframe tbody tr th:only-of-type {\n",
       "        vertical-align: middle;\n",
       "    }\n",
       "\n",
       "    .dataframe tbody tr th {\n",
       "        vertical-align: top;\n",
       "    }\n",
       "\n",
       "    .dataframe thead th {\n",
       "        text-align: right;\n",
       "    }\n",
       "</style>\n",
       "<table border=\"1\" class=\"dataframe\">\n",
       "  <thead>\n",
       "    <tr style=\"text-align: right;\">\n",
       "      <th></th>\n",
       "      <th>visit_text</th>\n",
       "      <th>nth_visit</th>\n",
       "    </tr>\n",
       "  </thead>\n",
       "  <tbody>\n",
       "    <tr>\n",
       "      <th>0</th>\n",
       "      <td>최근 방문일5.9.화2023년 5월 9일 화요일1번째 방문예약</td>\n",
       "      <td>1</td>\n",
       "    </tr>\n",
       "    <tr>\n",
       "      <th>1</th>\n",
       "      <td>최근 방문일5.6.토2023년 5월 6일 토요일1번째 방문예약</td>\n",
       "      <td>1</td>\n",
       "    </tr>\n",
       "    <tr>\n",
       "      <th>2</th>\n",
       "      <td>최근 방문일5.12.금2023년 5월 12일 금요일2번째 방문예약</td>\n",
       "      <td>2</td>\n",
       "    </tr>\n",
       "    <tr>\n",
       "      <th>3</th>\n",
       "      <td>최근 방문일5.25.목2023년 5월 25일 목요일1번째 방문영수증</td>\n",
       "      <td>1</td>\n",
       "    </tr>\n",
       "    <tr>\n",
       "      <th>4</th>\n",
       "      <td>최근 방문일3.31.금2023년 3월 31일 금요일1번째 방문예약</td>\n",
       "      <td>1</td>\n",
       "    </tr>\n",
       "  </tbody>\n",
       "</table>\n",
       "</div>"
      ],
      "text/plain": [
       "                              visit_text nth_visit\n",
       "0     최근 방문일5.9.화2023년 5월 9일 화요일1번째 방문예약         1\n",
       "1     최근 방문일5.6.토2023년 5월 6일 토요일1번째 방문예약         1\n",
       "2   최근 방문일5.12.금2023년 5월 12일 금요일2번째 방문예약         2\n",
       "3  최근 방문일5.25.목2023년 5월 25일 목요일1번째 방문영수증         1\n",
       "4   최근 방문일3.31.금2023년 3월 31일 금요일1번째 방문예약         1"
      ]
     },
     "execution_count": 60,
     "metadata": {},
     "output_type": "execute_result"
    }
   ],
   "source": [
    "df[\"nth_visit\"] = numbers\n",
    "df.head()"
   ]
  },
  {
   "cell_type": "code",
   "execution_count": 75,
   "id": "3e2d40d5",
   "metadata": {
    "scrolled": true
   },
   "outputs": [
    {
     "data": {
      "text/plain": [
       "1     1480\n",
       "2       69\n",
       "3       14\n",
       "4        2\n",
       "7        1\n",
       "12       1\n",
       "9        1\n",
       "Name: nth_visit, dtype: int64"
      ]
     },
     "execution_count": 75,
     "metadata": {},
     "output_type": "execute_result"
    }
   ],
   "source": [
    "nth_list= df[\"nth_visit\"].value_counts()\n",
    "nth_list"
   ]
  },
  {
   "cell_type": "code",
   "execution_count": 93,
   "id": "339de3e5",
   "metadata": {},
   "outputs": [
    {
     "data": {
      "image/png": "[encoded data removed]",
      "text/plain": [
       "<Figure size 640x480 with 1 Axes>"
      ]
     },
     "metadata": {},
     "output_type": "display_data"
    }
   ],
   "source": [
    "import matplotlib.pyplot as plt\n",
    "\n",
    "df[\"nth_visit\"].value_counts().plot(kind='pie')\n",
    "plt.savefig(\"재방문 파이차트.jpg\")"
   ]
  },
  {
   "cell_type": "code",
   "execution_count": 94,
   "id": "d4232025",
   "metadata": {
    "scrolled": true
   },
   "outputs": [
    {
     "data": {
      "image/png": "[encoded data removed]",
      "text/plain": [
       "<Figure size 640x480 with 1 Axes>"
      ]
     },
     "metadata": {},
     "output_type": "display_data"
    }
   ],
   "source": [
    "df[\"nth_visit\"].value_counts().plot(kind='bar')\n",
    "plt.savefig(\"재방문 바차트.jpg\")"
   ]
  },
  {
   "cell_type": "code",
   "execution_count": 103,
   "id": "145cb84e",
   "metadata": {},
   "outputs": [
    {
     "name": "stdout",
     "output_type": "stream",
     "text": [
      "1     1480\n",
      "2       69\n",
      "3       14\n",
      "4        2\n",
      "7        1\n",
      "12       1\n",
      "9        1\n",
      "Name: nth_visit, dtype: int64\n",
      "==================================\n",
      "재방문율 5.612 %\n"
     ]
    }
   ],
   "source": [
    "print(nth_list)\n",
    "\n",
    "again_visit_sum = sum(nth_list[1:])\n",
    "again_visit_sum\n",
    "\n",
    "print(\"==================================\")\n",
    "\n",
    "again_visit_percent = (again_visit_sum / sum(nth_list))*100\n",
    "\n",
    "print(\"재방문율\",round(again_visit_percent,3), \"%\")"
   ]
  },
  {
   "cell_type": "code",
   "execution_count": 163,
   "id": "97eb2c49",
   "metadata": {
    "scrolled": true
   },
   "outputs": [
    {
     "name": "stdout",
     "output_type": "stream",
     "text": [
      "첫 방문:  1480\n",
      "재 방문:  69\n",
      "재재..방문:  19\n"
     ]
    }
   ],
   "source": [
    "first_visit = nth_list[0]\n",
    "again_visit = nth_list[1]\n",
    "more_three = sum(nth_list[2:])\n",
    "\n",
    "print(\"첫 방문: \",first_visit)\n",
    "print(\"재 방문: \",again_visit)\n",
    "print(\"재재..방문: \",more_three)\n"
   ]
  },
  {
   "cell_type": "code",
   "execution_count": 162,
   "id": "429c7e62",
   "metadata": {},
   "outputs": [
    {
     "data": {
      "image/png": "[encoded data removed]",
      "text/plain": [
       "<Figure size 640x480 with 1 Axes>"
      ]
     },
     "metadata": {},
     "output_type": "display_data"
    }
   ],
   "source": [
    "import matplotlib.pyplot as plt\n",
    "%matplotlib inline\n",
    "plt.rc('font', family='AppleGothic',size=14) \n",
    "\n",
    "ratio = [first_visit, again_visit, more_three]\n",
    "labels = ['첫 방문', '재방문', '재재..방문']\n",
    "explode = [0.10, 0.1, 0.30]\n",
    "colors = [ 'whitesmoke','silver','gold']\n",
    "colors1 = ['#e1f0ec', '#8fd9b6','#ff9999',]\n",
    "wedgeprops={'width': 0.7, 'edgecolor': 'w'}\n",
    "\n",
    "plt.pie(ratio, labels=labels, autopct='%.1f%%',counterclock=False,\n",
    "        explode=explode,colors=colors1,shadow=True,wedgeprops=wedgeprops)\n",
    "\n",
    "plt.savefig(\"재방문 파이차트6.jpg\")\n",
    "plt.show()"
   ]
  }
 ],
 "metadata": {
  "kernelspec": {
   "display_name": "Python 3 (ipykernel)",
   "language": "python",
   "name": "python3"
  },
  "language_info": {
   "codemirror_mode": {
    "name": "ipython",
    "version": 3
   },
   "file_extension": ".py",
   "mimetype": "text/x-python",
   "name": "python",
   "nbconvert_exporter": "python",
   "pygments_lexer": "ipython3",
   "version": "3.10.9"
  }
 },
 "nbformat": 4,
 "nbformat_minor": 5
}
