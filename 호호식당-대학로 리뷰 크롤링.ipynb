{
 "cells": [
  {
   "cell_type": "markdown",
   "id": "9b76d1b7",
   "metadata": {},
   "source": [
    "# 호호식당-대학로 리뷰 크롤링"
   ]
  },
  {
   "cell_type": "markdown",
   "id": "71cc35b7",
   "metadata": {},
   "source": [
    "#### beautifulsoup4, selenium 설치"
   ]
  },
  {
   "cell_type": "code",
   "execution_count": 26,
   "id": "c71bae30",
   "metadata": {
    "scrolled": false
   },
   "outputs": [
    {
     "name": "stdout",
     "output_type": "stream",
     "text": [
      "Requirement already satisfied: beautifulsoup4 in /Users/sunmin/anaconda3/lib/python3.10/site-packages (4.11.1)\r\n",
      "Requirement already satisfied: soupsieve>1.2 in /Users/sunmin/anaconda3/lib/python3.10/site-packages (from beautifulsoup4) (2.3.2.post1)\r\n"
     ]
    }
   ],
   "source": [
    "#!pip3 install beautifulsoup4"
   ]
  },
  {
   "cell_type": "code",
   "execution_count": 5,
   "id": "38d25761",
   "metadata": {},
   "outputs": [
    {
     "name": "stdout",
     "output_type": "stream",
     "text": [
      "Requirement already satisfied: selenium in /Users/sunmin/anaconda3/lib/python3.10/site-packages (4.8.3)\n",
      "Requirement already satisfied: urllib3[socks]~=1.26 in /Users/sunmin/anaconda3/lib/python3.10/site-packages (from selenium) (1.26.14)\n",
      "Requirement already satisfied: trio~=0.17 in /Users/sunmin/anaconda3/lib/python3.10/site-packages (from selenium) (0.22.0)\n",
      "Requirement already satisfied: certifi>=2021.10.8 in /Users/sunmin/anaconda3/lib/python3.10/site-packages (from selenium) (2022.12.7)\n",
      "Requirement already satisfied: trio-websocket~=0.9 in /Users/sunmin/anaconda3/lib/python3.10/site-packages (from selenium) (0.10.2)\n",
      "Requirement already satisfied: async-generator>=1.9 in /Users/sunmin/anaconda3/lib/python3.10/site-packages (from trio~=0.17->selenium) (1.10)\n",
      "Requirement already satisfied: idna in /Users/sunmin/anaconda3/lib/python3.10/site-packages (from trio~=0.17->selenium) (3.4)\n",
      "Requirement already satisfied: exceptiongroup>=1.0.0rc9 in /Users/sunmin/anaconda3/lib/python3.10/site-packages (from trio~=0.17->selenium) (1.1.1)\n",
      "Requirement already satisfied: sniffio in /Users/sunmin/anaconda3/lib/python3.10/site-packages (from trio~=0.17->selenium) (1.2.0)\n",
      "Requirement already satisfied: sortedcontainers in /Users/sunmin/anaconda3/lib/python3.10/site-packages (from trio~=0.17->selenium) (2.4.0)\n",
      "Requirement already satisfied: attrs>=19.2.0 in /Users/sunmin/anaconda3/lib/python3.10/site-packages (from trio~=0.17->selenium) (22.1.0)\n",
      "Requirement already satisfied: outcome in /Users/sunmin/anaconda3/lib/python3.10/site-packages (from trio~=0.17->selenium) (1.2.0)\n",
      "Requirement already satisfied: wsproto>=0.14 in /Users/sunmin/anaconda3/lib/python3.10/site-packages (from trio-websocket~=0.9->selenium) (1.2.0)\n",
      "Requirement already satisfied: PySocks!=1.5.7,<2.0,>=1.5.6 in /Users/sunmin/anaconda3/lib/python3.10/site-packages (from urllib3[socks]~=1.26->selenium) (1.7.1)\n",
      "Requirement already satisfied: h11<1,>=0.9.0 in /Users/sunmin/anaconda3/lib/python3.10/site-packages (from wsproto>=0.14->trio-websocket~=0.9->selenium) (0.14.0)\n"
     ]
    }
   ],
   "source": [
    "#!pip install selenium"
   ]
  },
  {
   "cell_type": "markdown",
   "id": "7802acde",
   "metadata": {},
   "source": [
    "#### 필요한 패키지 임폴트"
   ]
  },
  {
   "cell_type": "code",
   "execution_count": 1,
   "id": "e130085c",
   "metadata": {},
   "outputs": [],
   "source": [
    "from selenium import webdriver\n",
    "from selenium.webdriver.common.keys import Keys\n",
    "from bs4 import BeautifulSoup\n",
    "from time import sleep\n",
    "import requests\n",
    "import re\n",
    "import pandas as pd\n",
    "import numpy as np\n",
    "import os\n",
    "import time\n",
    "import urllib.request\n",
    "from selenium.webdriver.common.keys import Keys\n",
    "\n",
    "import warnings\n",
    "warnings.filterwarnings('ignore')"
   ]
  },
  {
   "cell_type": "markdown",
   "id": "aafeb2ae",
   "metadata": {},
   "source": [
    "#### 셀레니움을 이용해 크롬드라이브 제어 및 url 가져오기"
   ]
  },
  {
   "cell_type": "code",
   "execution_count": 7,
   "id": "f5cb90cc",
   "metadata": {},
   "outputs": [],
   "source": [
    "#/Applications/Google Chrome.app/Contents/MacOS/Google Chrome\n",
    "from selenium import webdriver\n",
    "\n",
    "driver = webdriver.Chrome()\n",
    "driver.get(\"https://m.place.naver.com/restaurant/85806567/review/visitor?entry=ple\")\n",
    "#time.sleep(2)"
   ]
  },
  {
   "cell_type": "code",
   "execution_count": 95,
   "id": "a7327391",
   "metadata": {},
   "outputs": [],
   "source": [
    "#driver.find_element('xpath','//*[@id=\"app-root\"]/div/div/div/div[5]/div/div/div/div/a[5]').click()"
   ]
  },
  {
   "cell_type": "code",
   "execution_count": 8,
   "id": "d8ca4a18",
   "metadata": {},
   "outputs": [],
   "source": [
    "driver.execute_script('window.scrollTo(0,document.body.scrollHeight)')"
   ]
  },
  {
   "cell_type": "code",
   "execution_count": 9,
   "id": "3f333748",
   "metadata": {},
   "outputs": [],
   "source": [
    "prev_height = driver.execute_script('return document.body.scrollHeight')"
   ]
  },
  {
   "cell_type": "markdown",
   "id": "6ca86e0c",
   "metadata": {},
   "source": [
    "#### 웹자동화 : 더보기 -> 스크롤 반복"
   ]
  },
  {
   "cell_type": "code",
   "execution_count": 11,
   "id": "1fa94b2f",
   "metadata": {},
   "outputs": [
    {
     "name": "stdout",
     "output_type": "stream",
     "text": [
      "마지막 페이지입니다.\n"
     ]
    }
   ],
   "source": [
    "while True:\n",
    "    try:\n",
    "        driver.execute_script('window.scrollTo(0,document.body.scrollHeight)')\n",
    "        time.sleep(2)\n",
    "\n",
    "        current_height = driver.execute_script('return document.body.scrollHeight')\n",
    "\n",
    "        \n",
    "        driver.find_element('xpath','//*[@id=\"app-root\"]/div/div/div/div[7]/div[2]/div[3]/div[2]/a').click()\n",
    "        \n",
    "        \n",
    "        if prev_height == current_height:\n",
    "            break\n",
    "              \n",
    "        prev_height = current_height\n",
    "        \n",
    "    except:\n",
    "        print(\"마지막 페이지입니다.\")\n",
    "        break\n",
    "        \n",
    "#driver.quit()\n",
    "        "
   ]
  },
  {
   "cell_type": "markdown",
   "id": "19470b19",
   "metadata": {},
   "source": [
    "#### 현재페이지의 html 코드 가져오기\n",
    "    여기서 에러가 발생... \n",
    "    모든 리뷰가 코드에 반영되어 있지만 가져오지 못함 \n",
    "    * 해결방법: driver.page_source를 이용해 현재 페이지 코드를 가져올 수 있었음"
   ]
  },
  {
   "cell_type": "code",
   "execution_count": 1,
   "id": "bb7cf8d9",
   "metadata": {
    "scrolled": false
   },
   "outputs": [],
   "source": [
    "soup = BeautifulSoup(driver.page_source,'html.parser')\n",
    "soup"
   ]
  },
  {
   "cell_type": "code",
   "execution_count": 2,
   "id": "6c931603",
   "metadata": {},
   "outputs": [],
   "source": [
    "visit = soup.find_all('div',{'class':'sb8UA'})\n",
    "visit\n",
    "\n",
    "#soup.find('a',{'class':'sb8UA'}).get_text()\n",
    "#soup.find_all('ul',{'class':'sb8UA'})"
   ]
  },
  {
   "cell_type": "code",
   "execution_count": 45,
   "id": "655f2a50",
   "metadata": {},
   "outputs": [
    {
     "data": {
      "text/plain": [
       "'너무 맛있어요 근데 너무 느려요..'"
      ]
     },
     "execution_count": 45,
     "metadata": {},
     "output_type": "execute_result"
    }
   ],
   "source": [
    "reviews = soup.find('a',{'class':'xHaT3'}).get_text()\n",
    "reviews"
   ]
  },
  {
   "cell_type": "code",
   "execution_count": 3,
   "id": "42d73c55",
   "metadata": {},
   "outputs": [],
   "source": [
    "reviews = soup.find_all('ul',{'class':'eCPGL'})\n",
    "reviews"
   ]
  },
  {
   "cell_type": "markdown",
   "id": "3946b664",
   "metadata": {},
   "source": [
    "#### 뷰티풀수프의 find_all 을 통해 전체 리뷰 가져오기"
   ]
  },
  {
   "cell_type": "code",
   "execution_count": 4,
   "id": "1b555f60",
   "metadata": {
    "scrolled": false
   },
   "outputs": [],
   "source": [
    "reviews = soup.find_all('div',{'class':'ZZ4OK IwhtZ'})\n",
    "reviews"
   ]
  },
  {
   "cell_type": "code",
   "execution_count": 5,
   "id": "3b20f3f2",
   "metadata": {},
   "outputs": [],
   "source": [
    "reviews = soup.find_all('span',{'class':'zPfVt'})\n",
    "reviews"
   ]
  },
  {
   "cell_type": "code",
   "execution_count": 10,
   "id": "1f7277f5",
   "metadata": {
    "scrolled": true
   },
   "outputs": [
    {
     "data": {
      "text/plain": [
       "1455"
      ]
     },
     "execution_count": 10,
     "metadata": {},
     "output_type": "execute_result"
    }
   ],
   "source": [
    "len(reviews)"
   ]
  },
  {
   "cell_type": "markdown",
   "id": "2d02099b",
   "metadata": {},
   "source": [
    "#### 리뷰를 데이터프레임화 시켜 엑셀파일로 저장"
   ]
  },
  {
   "cell_type": "code",
   "execution_count": 11,
   "id": "442f9c5d",
   "metadata": {},
   "outputs": [],
   "source": [
    "review_list = []\n",
    "\n",
    "for review in reviews:\n",
    "    comment = review.get_text()\n",
    "    review_list.append(comment)\n",
    "\n",
    "#.get_text().strip()\n",
    "\n",
    "df = pd.DataFrame({'review':review_list})"
   ]
  },
  {
   "cell_type": "code",
   "execution_count": 12,
   "id": "a29215fd",
   "metadata": {},
   "outputs": [
    {
     "data": {
      "text/html": [
       "<div>\n",
       "<style scoped>\n",
       "    .dataframe tbody tr th:only-of-type {\n",
       "        vertical-align: middle;\n",
       "    }\n",
       "\n",
       "    .dataframe tbody tr th {\n",
       "        vertical-align: top;\n",
       "    }\n",
       "\n",
       "    .dataframe thead th {\n",
       "        text-align: right;\n",
       "    }\n",
       "</style>\n",
       "<table border=\"1\" class=\"dataframe\">\n",
       "  <thead>\n",
       "    <tr style=\"text-align: right;\">\n",
       "      <th></th>\n",
       "      <th>review</th>\n",
       "    </tr>\n",
       "  </thead>\n",
       "  <tbody>\n",
       "    <tr>\n",
       "      <th>0</th>\n",
       "      <td>한옥집 마당에 앉아서 기다리다가 자리가 나서 안으로 들어가서 맛있는 식사를 했어요\\...</td>\n",
       "    </tr>\n",
       "    <tr>\n",
       "      <th>1</th>\n",
       "      <td>항상 대기가 많아보여서 엄두를 못 냈는데 생각보다 웨이팅도 빨리 빠지고 회전율이 빨...</td>\n",
       "    </tr>\n",
       "    <tr>\n",
       "      <th>2</th>\n",
       "      <td>혜화 주민이라 자주갔는데,혜화에서 약속잡기 좋은 식당이라고 생각합니다. 생각보다 마...</td>\n",
       "    </tr>\n",
       "    <tr>\n",
       "      <th>3</th>\n",
       "      <td>주중인데도 웨이팅있을만큼 인기있는 곳 매장 직원들이 친절하고 음식 맛도 좋아용!! ...</td>\n",
       "    </tr>\n",
       "    <tr>\n",
       "      <th>4</th>\n",
       "      <td>혜화에 방문한다면 젤 추천하고 싶은 밥집이에여! 친절하고 예쁘고 오픈시간부터 우르르...</td>\n",
       "    </tr>\n",
       "    <tr>\n",
       "      <th>...</th>\n",
       "      <td>...</td>\n",
       "    </tr>\n",
       "    <tr>\n",
       "      <th>1450</th>\n",
       "      <td>40분을 기다려서 먹을만큼 너무 맛있다 !!</td>\n",
       "    </tr>\n",
       "    <tr>\n",
       "      <th>1451</th>\n",
       "      <td>비싸지만 맛은 인정</td>\n",
       "    </tr>\n",
       "    <tr>\n",
       "      <th>1452</th>\n",
       "      <td>스키야끼가 괜찮아요\\n전체적으로 짠맛이 있어요 그래서 일식느낌 좋아하시는분들 좋고요...</td>\n",
       "    </tr>\n",
       "    <tr>\n",
       "      <th>1453</th>\n",
       "      <td>괜찮은 일식당!</td>\n",
       "    </tr>\n",
       "    <tr>\n",
       "      <th>1454</th>\n",
       "      <td>JMT</td>\n",
       "    </tr>\n",
       "  </tbody>\n",
       "</table>\n",
       "<p>1455 rows × 1 columns</p>\n",
       "</div>"
      ],
      "text/plain": [
       "                                                 review\n",
       "0     한옥집 마당에 앉아서 기다리다가 자리가 나서 안으로 들어가서 맛있는 식사를 했어요\\...\n",
       "1     항상 대기가 많아보여서 엄두를 못 냈는데 생각보다 웨이팅도 빨리 빠지고 회전율이 빨...\n",
       "2     혜화 주민이라 자주갔는데,혜화에서 약속잡기 좋은 식당이라고 생각합니다. 생각보다 마...\n",
       "3     주중인데도 웨이팅있을만큼 인기있는 곳 매장 직원들이 친절하고 음식 맛도 좋아용!! ...\n",
       "4     혜화에 방문한다면 젤 추천하고 싶은 밥집이에여! 친절하고 예쁘고 오픈시간부터 우르르...\n",
       "...                                                 ...\n",
       "1450                           40분을 기다려서 먹을만큼 너무 맛있다 !!\n",
       "1451                                         비싸지만 맛은 인정\n",
       "1452  스키야끼가 괜찮아요\\n전체적으로 짠맛이 있어요 그래서 일식느낌 좋아하시는분들 좋고요...\n",
       "1453                                           괜찮은 일식당!\n",
       "1454                                                JMT\n",
       "\n",
       "[1455 rows x 1 columns]"
      ]
     },
     "execution_count": 12,
     "metadata": {},
     "output_type": "execute_result"
    }
   ],
   "source": [
    "df"
   ]
  },
  {
   "cell_type": "code",
   "execution_count": 13,
   "id": "db5767b3",
   "metadata": {
    "scrolled": true
   },
   "outputs": [
    {
     "data": {
      "text/plain": [
       "1455"
      ]
     },
     "execution_count": 13,
     "metadata": {},
     "output_type": "execute_result"
    }
   ],
   "source": [
    "len(review_list)"
   ]
  },
  {
   "cell_type": "code",
   "execution_count": 17,
   "id": "13b17de2",
   "metadata": {},
   "outputs": [],
   "source": [
    "df.to_excel('hoho_review2.xlsx')"
   ]
  }
 ],
 "metadata": {
  "kernelspec": {
   "display_name": "Python 3 (ipykernel)",
   "language": "python",
   "name": "python3"
  },
  "language_info": {
   "codemirror_mode": {
    "name": "ipython",
    "version": 3
   },
   "file_extension": ".py",
   "mimetype": "text/x-python",
   "name": "python",
   "nbconvert_exporter": "python",
   "pygments_lexer": "ipython3",
   "version": "3.10.9"
  }
 },
 "nbformat": 4,
 "nbformat_minor": 5
}
