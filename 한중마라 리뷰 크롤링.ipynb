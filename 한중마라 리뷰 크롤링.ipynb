{
 "cells": [
  {
   "cell_type": "markdown",
   "id": "9b76d1b7",
   "metadata": {},
   "source": [
    "# 한중마라 리뷰 크롤링"
   ]
  },
  {
   "cell_type": "markdown",
   "id": "71cc35b7",
   "metadata": {},
   "source": [
    "#### beautifulsoup4, selenium 설치"
   ]
  },
  {
   "cell_type": "code",
   "execution_count": 79,
   "id": "c71bae30",
   "metadata": {},
   "outputs": [],
   "source": [
    "#!pip3 install beautifulsoup4"
   ]
  },
  {
   "cell_type": "code",
   "execution_count": 80,
   "id": "38d25761",
   "metadata": {},
   "outputs": [],
   "source": [
    "#!pip install selenium"
   ]
  },
  {
   "cell_type": "markdown",
   "id": "7802acde",
   "metadata": {},
   "source": [
    "#### 필요한 패키지 임폴트"
   ]
  },
  {
   "cell_type": "code",
   "execution_count": 81,
   "id": "e130085c",
   "metadata": {},
   "outputs": [],
   "source": [
    "from selenium import webdriver\n",
    "from selenium.webdriver.common.keys import Keys\n",
    "from bs4 import BeautifulSoup\n",
    "from time import sleep\n",
    "import requests\n",
    "import re\n",
    "import pandas as pd\n",
    "import numpy as np\n",
    "import os\n",
    "import time\n",
    "import urllib.request\n",
    "from selenium.webdriver.common.keys import Keys\n",
    "\n",
    "import warnings\n",
    "warnings.filterwarnings('ignore')"
   ]
  },
  {
   "cell_type": "markdown",
   "id": "aafeb2ae",
   "metadata": {},
   "source": [
    "#### 셀레니움을 이용해 크롬드라이브 제어 및 url 가져오기"
   ]
  },
  {
   "cell_type": "code",
   "execution_count": 82,
   "id": "f5cb90cc",
   "metadata": {},
   "outputs": [],
   "source": [
    "#/Applications/Google Chrome.app/Contents/MacOS/Google Chrome\n",
    "from selenium import webdriver\n",
    "\n",
    "driver = webdriver.Chrome()\n",
    "driver.get(\"https://m.place.naver.com/restaurant/1206426590/review/visitor?entry=ple\")\n",
    "#time.sleep(2)"
   ]
  },
  {
   "cell_type": "code",
   "execution_count": 83,
   "id": "a7327391",
   "metadata": {},
   "outputs": [],
   "source": [
    "#driver.find_element('xpath','//*[@id=\"app-root\"]/div/div/div/div[5]/div/div/div/div/a[5]').click()"
   ]
  },
  {
   "cell_type": "code",
   "execution_count": 84,
   "id": "d8ca4a18",
   "metadata": {},
   "outputs": [],
   "source": [
    "driver.execute_script('window.scrollTo(0,document.body.scrollHeight)')"
   ]
  },
  {
   "cell_type": "code",
   "execution_count": 85,
   "id": "3f333748",
   "metadata": {},
   "outputs": [],
   "source": [
    "prev_height = driver.execute_script('return document.body.scrollHeight')"
   ]
  },
  {
   "cell_type": "markdown",
   "id": "6ca86e0c",
   "metadata": {},
   "source": [
    "#### 웹자동화 : 더보기 -> 스크롤 반복"
   ]
  },
  {
   "cell_type": "code",
   "execution_count": 97,
   "id": "1fa94b2f",
   "metadata": {},
   "outputs": [
    {
     "name": "stdout",
     "output_type": "stream",
     "text": [
      "마지막 페이지입니다.\n"
     ]
    }
   ],
   "source": [
    "while True:\n",
    "    try:\n",
    "        driver.execute_script('window.scrollTo(0,document.body.scrollHeight)')\n",
    "        time.sleep(3)\n",
    "\n",
    "        current_height = driver.execute_script('return document.body.scrollHeight')\n",
    "\n",
    "        \n",
    "        driver.find_element('xpath','//*[@id=\"app-root\"]/div/div/div/div[7]/div[2]/div[3]/div[2]/a').click()\n",
    "        \n",
    "        \n",
    "        if prev_height == current_height:\n",
    "            break\n",
    "              \n",
    "        prev_height = current_height\n",
    "        #time.sleep(1)\n",
    "    except:\n",
    "        print(\"마지막 페이지입니다.\")\n",
    "        break\n",
    "        \n",
    "#driver.quit()\n",
    "        "
   ]
  },
  {
   "cell_type": "markdown",
   "id": "19470b19",
   "metadata": {},
   "source": [
    "#### 현재페이지의 html 코드 가져오기\n",
    "    여기서 에러가 발생... \n",
    "    모든 리뷰가 코드에 반영되어 있지만 가져오지 못함 \n",
    "    * 해결방법: driver.page_source를 이용해 현재 페이지 코드를 가져올 수 있었음"
   ]
  },
  {
   "cell_type": "code",
   "execution_count": 1,
   "id": "bb7cf8d9",
   "metadata": {},
   "outputs": [],
   "source": [
    "soup = BeautifulSoup(driver.page_source,'html.parser')\n",
    "soup"
   ]
  },
  {
   "cell_type": "code",
   "execution_count": 88,
   "id": "655f2a50",
   "metadata": {},
   "outputs": [
    {
     "data": {
      "text/plain": [
       "'대전에 새로 이사 와서 찾은 집 근처 맛집!!! 첫번째!!!  마라탕과 꿔바로우 현지 지인 베스트 추천!!! 다음엔 마라의 알싸한 매운 맛을  한단계 더 높여서 3단계 도전!!! 한가지 아쉬운 점 내가 좋아하는 고\\n수가 없어요ㅠㅠ 맛있게 잘 먹었습니다~~~^^  내용 더보기'"
      ]
     },
     "execution_count": 88,
     "metadata": {},
     "output_type": "execute_result"
    }
   ],
   "source": [
    "reviews = soup.find('a',{'class':'xHaT3'}).get_text()\n",
    "reviews"
   ]
  },
  {
   "cell_type": "code",
   "execution_count": 99,
   "id": "acb81ece",
   "metadata": {},
   "outputs": [
    {
     "data": {
      "text/plain": [
       "5"
      ]
     },
     "execution_count": 99,
     "metadata": {},
     "output_type": "execute_result"
    }
   ],
   "source": [
    "reviews = soup.find('li',{'class':'YeINN'})\n",
    "len(reviews)"
   ]
  },
  {
   "cell_type": "code",
   "execution_count": 4,
   "id": "42d73c55",
   "metadata": {},
   "outputs": [],
   "source": [
    "reviews = soup.find_all('ul',{'class':'eCPGL'})\n",
    "reviews"
   ]
  },
  {
   "cell_type": "markdown",
   "id": "3946b664",
   "metadata": {},
   "source": [
    "#### 뷰티풀수프의 find_all 을 통해 전체 리뷰 가져오기"
   ]
  },
  {
   "cell_type": "code",
   "execution_count": 5,
   "id": "1b555f60",
   "metadata": {
    "scrolled": false
   },
   "outputs": [],
   "source": [
    "reviews = soup.find_all('div',{'class':'ZZ4OK IwhtZ'})\n",
    "reviews\n",
    "#zPfVt\n",
    "#ZZ4OK IwhtZ"
   ]
  },
  {
   "cell_type": "code",
   "execution_count": 103,
   "id": "3b20f3f2",
   "metadata": {},
   "outputs": [
    {
     "data": {
      "text/plain": [
       "[<span class=\"zPfVt\">대전에 새로 이사 와서 찾은 집 근처 맛집!!! 첫번째!!!  마라탕과 꿔바로우 현지 지인 베스트 추천!!! 다음엔 마라의 알싸한 매운 맛을  한단계 더 높여서 3단계 도전!!! 한가지 아쉬운 점 내가 좋아하는 고\n",
       " 수가 없어요ㅠㅠ 맛있게 잘 먹었습니다~~~^^  </span>,\n",
       " <span class=\"zPfVt\">맛있긴합니다만ㅠㅠ야채선택해서(숙주) \u0000준것보다 넘작게들어있는것같아요~숙주를좋아해서 좀과하다싶을정도로 많이했는데..요리되어나온 숙주양이 넘 형편없이 적었어요..매장에서 말할까 몇번이나 망설였는데..기분은 별로네요ㅠㅠ</span>,\n",
       " <span class=\"zPfVt\">정말 맛있습니다^^~</span>,\n",
       " <span class=\"zPfVt\">친구랑 갔는데 가성비 좋고 깨끗하고 좋았어요 친구는 맛있었다고 했지만 제 취향은 아니에요.. 호불호가 좀 갈리는것 같아요  가성비는 좋았어요</span>,\n",
       " <span class=\"zPfVt\">양고기추가에 기름기가 없고 너무 좋아요</span>,\n",
       " <span class=\"zPfVt\">우리집 근처 맛집 중 하나로 선정 중~ 중국 교포 가족이 운영하는 듯~ 친절하고 깨끗하고 맛있다 아쉬운건 딱 하나! 고수가 없다 ㅠㅠ</span>,\n",
       " <span class=\"zPfVt\">깔끔하고 친절하시네요</span>,\n",
       " <span class=\"zPfVt\">마라 맛있어요!!</span>,\n",
       " <span class=\"zPfVt\">맛있어요. 자주 가는 곳이에요!!</span>]"
      ]
     },
     "execution_count": 103,
     "metadata": {},
     "output_type": "execute_result"
    }
   ],
   "source": [
    "reviews = soup.find_all('span',{'class':'zPfVt'})\n",
    "reviews"
   ]
  },
  {
   "cell_type": "code",
   "execution_count": 106,
   "id": "1f7277f5",
   "metadata": {
    "scrolled": true
   },
   "outputs": [
    {
     "data": {
      "text/plain": [
       "136"
      ]
     },
     "execution_count": 106,
     "metadata": {},
     "output_type": "execute_result"
    }
   ],
   "source": [
    "len(reviews)"
   ]
  },
  {
   "cell_type": "markdown",
   "id": "2d02099b",
   "metadata": {},
   "source": [
    "#### 리뷰를 데이터프레임화 시켜 엑셀파일로 저장"
   ]
  },
  {
   "cell_type": "code",
   "execution_count": 126,
   "id": "442f9c5d",
   "metadata": {},
   "outputs": [],
   "source": [
    "review_list = []\n",
    "\n",
    "for review in reviews:\n",
    "    comment = review.get_text()\n",
    "    review_list.append(comment)\n",
    "\n",
    "#.get_text().strip()\n",
    "\n",
    "df2 = pd.DataFrame({'review':review_list})"
   ]
  },
  {
   "cell_type": "code",
   "execution_count": 127,
   "id": "a29215fd",
   "metadata": {},
   "outputs": [
    {
     "data": {
      "text/html": [
       "<div>\n",
       "<style scoped>\n",
       "    .dataframe tbody tr th:only-of-type {\n",
       "        vertical-align: middle;\n",
       "    }\n",
       "\n",
       "    .dataframe tbody tr th {\n",
       "        vertical-align: top;\n",
       "    }\n",
       "\n",
       "    .dataframe thead th {\n",
       "        text-align: right;\n",
       "    }\n",
       "</style>\n",
       "<table border=\"1\" class=\"dataframe\">\n",
       "  <thead>\n",
       "    <tr style=\"text-align: right;\">\n",
       "      <th></th>\n",
       "      <th>review</th>\n",
       "    </tr>\n",
       "  </thead>\n",
       "  <tbody>\n",
       "    <tr>\n",
       "      <th>0</th>\n",
       "      <td>대전에 새로 이사 와서 찾은 집 근처 맛집!!! 첫번째!!!  마라탕과 꿔바로우 현...</td>\n",
       "    </tr>\n",
       "    <tr>\n",
       "      <th>1</th>\n",
       "      <td>맛있긴합니다만ㅠㅠ야채선택해서(숙주) \u0000준것보다 넘작게들어있는것같아요~숙주를좋아해서 ...</td>\n",
       "    </tr>\n",
       "    <tr>\n",
       "      <th>2</th>\n",
       "      <td>정말 맛있습니다^^~</td>\n",
       "    </tr>\n",
       "    <tr>\n",
       "      <th>3</th>\n",
       "      <td>친구랑 갔는데 가성비 좋고 깨끗하고 좋았어요 친구는 맛있었다고 했지만 제 취향은 아...</td>\n",
       "    </tr>\n",
       "    <tr>\n",
       "      <th>4</th>\n",
       "      <td>양고기추가에 기름기가 없고 너무 좋아요</td>\n",
       "    </tr>\n",
       "    <tr>\n",
       "      <th>...</th>\n",
       "      <td>...</td>\n",
       "    </tr>\n",
       "    <tr>\n",
       "      <th>131</th>\n",
       "      <td>굳</td>\n",
       "    </tr>\n",
       "    <tr>\n",
       "      <th>132</th>\n",
       "      <td>굳</td>\n",
       "    </tr>\n",
       "    <tr>\n",
       "      <th>133</th>\n",
       "      <td>맛잇음</td>\n",
       "    </tr>\n",
       "    <tr>\n",
       "      <th>134</th>\n",
       "      <td>마라탕 굳굳</td>\n",
       "    </tr>\n",
       "    <tr>\n",
       "      <th>135</th>\n",
       "      <td>굿</td>\n",
       "    </tr>\n",
       "  </tbody>\n",
       "</table>\n",
       "<p>136 rows × 1 columns</p>\n",
       "</div>"
      ],
      "text/plain": [
       "                                                review\n",
       "0    대전에 새로 이사 와서 찾은 집 근처 맛집!!! 첫번째!!!  마라탕과 꿔바로우 현...\n",
       "1    맛있긴합니다만ㅠㅠ야채선택해서(숙주) \u0000준것보다 넘작게들어있는것같아요~숙주를좋아해서 ...\n",
       "2                                          정말 맛있습니다^^~\n",
       "3    친구랑 갔는데 가성비 좋고 깨끗하고 좋았어요 친구는 맛있었다고 했지만 제 취향은 아...\n",
       "4                                양고기추가에 기름기가 없고 너무 좋아요\n",
       "..                                                 ...\n",
       "131                                                  굳\n",
       "132                                                  굳\n",
       "133                                                맛잇음\n",
       "134                                             마라탕 굳굳\n",
       "135                                                  굿\n",
       "\n",
       "[136 rows x 1 columns]"
      ]
     },
     "execution_count": 127,
     "metadata": {},
     "output_type": "execute_result"
    }
   ],
   "source": [
    "df2"
   ]
  },
  {
   "cell_type": "code",
   "execution_count": 125,
   "id": "e1f61d69",
   "metadata": {},
   "outputs": [
    {
     "data": {
      "text/html": [
       "<div>\n",
       "<style scoped>\n",
       "    .dataframe tbody tr th:only-of-type {\n",
       "        vertical-align: middle;\n",
       "    }\n",
       "\n",
       "    .dataframe tbody tr th {\n",
       "        vertical-align: top;\n",
       "    }\n",
       "\n",
       "    .dataframe thead th {\n",
       "        text-align: right;\n",
       "    }\n",
       "</style>\n",
       "<table border=\"1\" class=\"dataframe\">\n",
       "  <thead>\n",
       "    <tr style=\"text-align: right;\">\n",
       "      <th></th>\n",
       "      <th>review</th>\n",
       "    </tr>\n",
       "  </thead>\n",
       "  <tbody>\n",
       "    <tr>\n",
       "      <th>0</th>\n",
       "      <td>대전에 새로 이사 와서 찾은 집 근처 맛집!!! 첫번째!!!  마라탕과 꿔바로우 현...</td>\n",
       "    </tr>\n",
       "    <tr>\n",
       "      <th>1</th>\n",
       "      <td>맛있긴합니다만ㅠㅠ야채선택해서(숙주) \u0000준것보다 넘작게들어있는것같아요~숙주를좋아해서 ...</td>\n",
       "    </tr>\n",
       "    <tr>\n",
       "      <th>2</th>\n",
       "      <td>정말 맛있습니다^^~</td>\n",
       "    </tr>\n",
       "    <tr>\n",
       "      <th>3</th>\n",
       "      <td>친구랑 갔는데 가성비 좋고 깨끗하고 좋았어요 친구는 맛있었다고 했지만 제 취향은 아...</td>\n",
       "    </tr>\n",
       "    <tr>\n",
       "      <th>4</th>\n",
       "      <td>양고기추가에 기름기가 없고 너무 좋아요</td>\n",
       "    </tr>\n",
       "    <tr>\n",
       "      <th>5</th>\n",
       "      <td>우리집 근처 맛집 중 하나로 선정 중~ 중국 교포 가족이 운영하는 듯~ 친절하고 깨...</td>\n",
       "    </tr>\n",
       "    <tr>\n",
       "      <th>6</th>\n",
       "      <td>깔끔하고 친절하시네요</td>\n",
       "    </tr>\n",
       "    <tr>\n",
       "      <th>7</th>\n",
       "      <td>마라 맛있어요!!</td>\n",
       "    </tr>\n",
       "    <tr>\n",
       "      <th>8</th>\n",
       "      <td>맛있어요. 자주 가는 곳이에요!!</td>\n",
       "    </tr>\n",
       "    <tr>\n",
       "      <th>9</th>\n",
       "      <td>맛있어서 자주가요</td>\n",
       "    </tr>\n",
       "    <tr>\n",
       "      <th>10</th>\n",
       "      <td>아이가 너무 먹고싶어해서 찾아간곳. 주차할곳이 없어 조금 불편했지만.. 단계도 3단...</td>\n",
       "    </tr>\n",
       "    <tr>\n",
       "      <th>11</th>\n",
       "      <td>맛지</td>\n",
       "    </tr>\n",
       "    <tr>\n",
       "      <th>12</th>\n",
       "      <td>마라맛이 강해요. 2단계도 매워요</td>\n",
       "    </tr>\n",
       "    <tr>\n",
       "      <th>13</th>\n",
       "      <td>굿</td>\n",
       "    </tr>\n",
       "    <tr>\n",
       "      <th>14</th>\n",
       "      <td>마라탕 조아아</td>\n",
       "    </tr>\n",
       "  </tbody>\n",
       "</table>\n",
       "</div>"
      ],
      "text/plain": [
       "                                               review\n",
       "0   대전에 새로 이사 와서 찾은 집 근처 맛집!!! 첫번째!!!  마라탕과 꿔바로우 현...\n",
       "1   맛있긴합니다만ㅠㅠ야채선택해서(숙주) \u0000준것보다 넘작게들어있는것같아요~숙주를좋아해서 ...\n",
       "2                                         정말 맛있습니다^^~\n",
       "3   친구랑 갔는데 가성비 좋고 깨끗하고 좋았어요 친구는 맛있었다고 했지만 제 취향은 아...\n",
       "4                               양고기추가에 기름기가 없고 너무 좋아요\n",
       "5   우리집 근처 맛집 중 하나로 선정 중~ 중국 교포 가족이 운영하는 듯~ 친절하고 깨...\n",
       "6                                         깔끔하고 친절하시네요\n",
       "7                                           마라 맛있어요!!\n",
       "8                                  맛있어요. 자주 가는 곳이에요!!\n",
       "9                                           맛있어서 자주가요\n",
       "10  아이가 너무 먹고싶어해서 찾아간곳. 주차할곳이 없어 조금 불편했지만.. 단계도 3단...\n",
       "11                                                 맛지\n",
       "12                                 마라맛이 강해요. 2단계도 매워요\n",
       "13                                                  굿\n",
       "14                                            마라탕 조아아"
      ]
     },
     "execution_count": 125,
     "metadata": {},
     "output_type": "execute_result"
    }
   ],
   "source": [
    "df2.head(15)"
   ]
  },
  {
   "cell_type": "code",
   "execution_count": 114,
   "id": "db5767b3",
   "metadata": {
    "scrolled": true
   },
   "outputs": [
    {
     "data": {
      "text/plain": [
       "136"
      ]
     },
     "execution_count": 114,
     "metadata": {},
     "output_type": "execute_result"
    }
   ],
   "source": [
    "df2.shape[0]"
   ]
  },
  {
   "cell_type": "code",
   "execution_count": 130,
   "id": "13b17de2",
   "metadata": {},
   "outputs": [],
   "source": [
    "df2.to_excel('Hanjoung_Mara_review.xlsx')"
   ]
  },
  {
   "cell_type": "code",
   "execution_count": 129,
   "id": "e4afd015",
   "metadata": {},
   "outputs": [
    {
     "name": "stdout",
     "output_type": "stream",
     "text": [
      "Collecting xlsxwriter\n",
      "  Downloading XlsxWriter-3.1.0-py3-none-any.whl (152 kB)\n",
      "\u001b[2K     \u001b[90m━━━━━━━━━━━━━━━━━━━━━━━━━━━━━━━━━━━━━━━\u001b[0m \u001b[32m152.7/152.7 kB\u001b[0m \u001b[31m3.5 MB/s\u001b[0m eta \u001b[36m0:00:00\u001b[0ma \u001b[36m0:00:01\u001b[0m\n",
      "\u001b[?25hInstalling collected packages: xlsxwriter\n",
      "Successfully installed xlsxwriter-3.1.0\n"
     ]
    }
   ],
   "source": [
    "!pip install xlsxwriter"
   ]
  }
 ],
 "metadata": {
  "kernelspec": {
   "display_name": "Python 3 (ipykernel)",
   "language": "python",
   "name": "python3"
  },
  "language_info": {
   "codemirror_mode": {
    "name": "ipython",
    "version": 3
   },
   "file_extension": ".py",
   "mimetype": "text/x-python",
   "name": "python",
   "nbconvert_exporter": "python",
   "pygments_lexer": "ipython3",
   "version": "3.10.9"
  }
 },
 "nbformat": 4,
 "nbformat_minor": 5
}
